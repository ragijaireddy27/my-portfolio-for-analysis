{
 "cells": [
  {
   "cell_type": "code",
   "execution_count": 3,
   "id": "9c0750e1-953d-4f85-b531-56f1eb105529",
   "metadata": {},
   "outputs": [],
   "source": [
    "import pandas as pd\n",
    "import numpy as np"
   ]
  },
  {
   "cell_type": "code",
   "execution_count": 30,
   "id": "5ec26b1c-6766-4555-b36e-9c862b237e47",
   "metadata": {},
   "outputs": [
    {
     "name": "stdout",
     "output_type": "stream",
     "text": [
      "<class 'pandas.core.frame.DataFrame'>\n",
      "RangeIndex: 541909 entries, 0 to 541908\n",
      "Data columns (total 8 columns):\n",
      " #   Column       Non-Null Count   Dtype  \n",
      "---  ------       --------------   -----  \n",
      " 0   InvoiceNo    541909 non-null  object \n",
      " 1   StockCode    541909 non-null  object \n",
      " 2   Description  540455 non-null  object \n",
      " 3   Quantity     541909 non-null  int64  \n",
      " 4   InvoiceDate  541909 non-null  object \n",
      " 5   UnitPrice    541909 non-null  float64\n",
      " 6   CustomerID   406829 non-null  float64\n",
      " 7   Country      541909 non-null  object \n",
      "dtypes: float64(2), int64(1), object(5)\n",
      "memory usage: 33.1+ MB\n",
      "None\n",
      "InvoiceNo           0\n",
      "StockCode           0\n",
      "Description      1454\n",
      "Quantity            0\n",
      "InvoiceDate         0\n",
      "UnitPrice           0\n",
      "CustomerID     135080\n",
      "Country             0\n",
      "dtype: int64\n"
     ]
    },
    {
     "data": {
      "text/html": [
       "<div>\n",
       "<style scoped>\n",
       "    .dataframe tbody tr th:only-of-type {\n",
       "        vertical-align: middle;\n",
       "    }\n",
       "\n",
       "    .dataframe tbody tr th {\n",
       "        vertical-align: top;\n",
       "    }\n",
       "\n",
       "    .dataframe thead th {\n",
       "        text-align: right;\n",
       "    }\n",
       "</style>\n",
       "<table border=\"1\" class=\"dataframe\">\n",
       "  <thead>\n",
       "    <tr style=\"text-align: right;\">\n",
       "      <th></th>\n",
       "      <th>Quantity</th>\n",
       "      <th>UnitPrice</th>\n",
       "      <th>CustomerID</th>\n",
       "    </tr>\n",
       "  </thead>\n",
       "  <tbody>\n",
       "    <tr>\n",
       "      <th>count</th>\n",
       "      <td>541909.000000</td>\n",
       "      <td>541909.000000</td>\n",
       "      <td>406829.000000</td>\n",
       "    </tr>\n",
       "    <tr>\n",
       "      <th>mean</th>\n",
       "      <td>9.552250</td>\n",
       "      <td>4.611114</td>\n",
       "      <td>15287.690570</td>\n",
       "    </tr>\n",
       "    <tr>\n",
       "      <th>std</th>\n",
       "      <td>218.081158</td>\n",
       "      <td>96.759853</td>\n",
       "      <td>1713.600303</td>\n",
       "    </tr>\n",
       "    <tr>\n",
       "      <th>min</th>\n",
       "      <td>-80995.000000</td>\n",
       "      <td>-11062.060000</td>\n",
       "      <td>12346.000000</td>\n",
       "    </tr>\n",
       "    <tr>\n",
       "      <th>25%</th>\n",
       "      <td>1.000000</td>\n",
       "      <td>1.250000</td>\n",
       "      <td>13953.000000</td>\n",
       "    </tr>\n",
       "    <tr>\n",
       "      <th>50%</th>\n",
       "      <td>3.000000</td>\n",
       "      <td>2.080000</td>\n",
       "      <td>15152.000000</td>\n",
       "    </tr>\n",
       "    <tr>\n",
       "      <th>75%</th>\n",
       "      <td>10.000000</td>\n",
       "      <td>4.130000</td>\n",
       "      <td>16791.000000</td>\n",
       "    </tr>\n",
       "    <tr>\n",
       "      <th>max</th>\n",
       "      <td>80995.000000</td>\n",
       "      <td>38970.000000</td>\n",
       "      <td>18287.000000</td>\n",
       "    </tr>\n",
       "  </tbody>\n",
       "</table>\n",
       "</div>"
      ],
      "text/plain": [
       "            Quantity      UnitPrice     CustomerID\n",
       "count  541909.000000  541909.000000  406829.000000\n",
       "mean        9.552250       4.611114   15287.690570\n",
       "std       218.081158      96.759853    1713.600303\n",
       "min    -80995.000000  -11062.060000   12346.000000\n",
       "25%         1.000000       1.250000   13953.000000\n",
       "50%         3.000000       2.080000   15152.000000\n",
       "75%        10.000000       4.130000   16791.000000\n",
       "max     80995.000000   38970.000000   18287.000000"
      ]
     },
     "execution_count": 30,
     "metadata": {},
     "output_type": "execute_result"
    }
   ],
   "source": [
    "onre=pd.read_csv(\"R:\\\\portfoli_projects\\\\Online retailes\\\\online_retail.csv\")\n",
    "print(onre.info())\n",
    "print(onre.isnull().sum())\n",
    "onre.describe()"
   ]
  },
  {
   "cell_type": "markdown",
   "id": "fa9c9cd7-6e7f-4805-bb25-3eccf6e66849",
   "metadata": {},
   "source": [
    "Data Cleaning:"
   ]
  },
  {
   "cell_type": "code",
   "execution_count": 133,
   "id": "340e36db-2ac3-47f7-bec2-88f50549fe44",
   "metadata": {},
   "outputs": [
    {
     "name": "stdout",
     "output_type": "stream",
     "text": [
      "InvoiceNo           0\n",
      "StockCode           0\n",
      "Description      1454\n",
      "Quantity            0\n",
      "UnitPrice           0\n",
      "CustomerID     135080\n",
      "dtype: int64\n"
     ]
    }
   ],
   "source": [
    "#Are there any missing or null values \n",
    "#Check for NaN values using df.isnull().sum() or isna().sum()\n",
    "onre.isnull().sum()\n",
    "dd=onre\n",
    "\n",
    "# Check for missing values in critical columns\n",
    "critical_columns = ['InvoiceNo', 'StockCode', 'Description', 'Quantity', 'UnitPrice', 'CustomerID']\n",
    "\n",
    "missing_values = dd[critical_columns].isna().sum()\n",
    "print(missing_values)\n"
   ]
  },
  {
   "cell_type": "code",
   "execution_count": 135,
   "id": "17f83690-e3e3-4e32-93fc-b3a53fc30861",
   "metadata": {},
   "outputs": [
    {
     "name": "stdout",
     "output_type": "stream",
     "text": [
      "[17850. 13047. 12583. ... 13298. 14569. 12713.]\n"
     ]
    }
   ],
   "source": [
    "#drop rows with missing values.\n",
    "# Drop rows with missing critical columns\n",
    "#only for that specific coloum  droping\n",
    "dd=dd.loc[dd['CustomerID'].notna(), :]\n",
    "dd=dd.loc[dd['Description'].notna(),:]\n",
    "dd.isnull().sum()\n",
    "dd.describe()\n",
    "\n",
    "#(OR)\n",
    "# Drop rows with missing critical columns\n",
    "dd.dropna(subset=['InvoiceNo', 'StockCode', 'Description', 'CustomerID'], inplace=True)\n",
    "\n",
    "# For Quantity and UnitPrice, you can either drop or impute\n",
    "dd.dropna(subset=['Quantity', 'UnitPrice'], inplace=True)  # Drop rows with missing Quantity or Price\n",
    "\n",
    "\n",
    "# Check unique values in CustomerID to see if there are any unexpected values\n",
    "print(dd['CustomerID'].unique())\n"
   ]
  },
  {
   "cell_type": "code",
   "execution_count": 117,
   "id": "4adbd1b8-f9d7-43a0-974d-d5ca1fffaaea",
   "metadata": {},
   "outputs": [
    {
     "data": {
      "text/plain": [
       "InvoiceNo      397884\n",
       "StockCode      397884\n",
       "Description    397884\n",
       "Quantity       397884\n",
       "InvoiceDate    397884\n",
       "UnitPrice      397884\n",
       "CustomerID     397884\n",
       "Country        397884\n",
       "TotalSales     397884\n",
       "dtype: int64"
      ]
     },
     "execution_count": 117,
     "metadata": {},
     "output_type": "execute_result"
    }
   ],
   "source": [
    "\n",
    "# Convert to numeric, invalid entries will be turned into NaN\n",
    "dd['Quantity'] = pd.to_numeric(dd['Quantity'], errors='coerce')\n",
    "dd['UnitPrice'] = pd.to_numeric(dd['UnitPrice'], errors='coerce')\n",
    "\n",
    "# Now, you can filter out NaN values (which were originally non-numeric entries)\n",
    "dd = dd.dropna(subset=['Quantity', 'UnitPrice'])\n",
    "\n",
    "dd.count()\n",
    "\n",
    " #Invalid Quantity and Price values \n",
    " #Convert 'Quantity' and 'UnitPrice' to strings before matching\n",
    "#dd[dd['Quantity'].astype(str).str.match(r'^[^\\d]+$', na=False)]  # For non-digit values in Quantity\n",
    "#dd[dd['UnitPrice'].astype(str).str.match(r'^[^\\d]+$', na=False)]  # For non-digit values in UnitPrice\n",
    "\n",
    "\n"
   ]
  },
  {
   "cell_type": "code",
   "execution_count": 125,
   "id": "b8fd1d4a-b599-4ae1-a618-1583b9cf8038",
   "metadata": {},
   "outputs": [
    {
     "name": "stdout",
     "output_type": "stream",
     "text": [
      "Empty DataFrame\n",
      "Columns: [InvoiceNo, StockCode, Description, Quantity, InvoiceDate, UnitPrice, CustomerID, Country, TotalSales]\n",
      "Index: []\n"
     ]
    },
    {
     "data": {
      "text/plain": [
       "InvoiceNo      387841\n",
       "StockCode      387841\n",
       "Description    387841\n",
       "Quantity       387841\n",
       "InvoiceDate    387841\n",
       "UnitPrice      387841\n",
       "CustomerID     387841\n",
       "Country        387841\n",
       "TotalSales     387841\n",
       "dtype: int64"
      ]
     },
     "execution_count": 125,
     "metadata": {},
     "output_type": "execute_result"
    }
   ],
   "source": [
    "#Are there any duplicate rows\n",
    "dd.duplicated()\n",
    "# Remove any duplicate rows\n",
    "dd.drop_duplicates()\n",
    "\n",
    "# Check for duplicates based on InvoiceNo and StockCode\n",
    "duplicates = dd[dd.duplicated(subset=['InvoiceNo', 'StockCode'], keep=False)]\n",
    "print(duplicates)\n",
    "\n",
    "# Remove duplicates\n",
    "dd.drop_duplicates(subset=['InvoiceNo', 'StockCode'], keep='first', inplace=True)\n"
   ]
  },
  {
   "cell_type": "code",
   "execution_count": 127,
   "id": "c9cbad11-a5d9-4dd0-99b8-d359ff6737fb",
   "metadata": {},
   "outputs": [],
   "source": [
    "# Replace missing values with \"Unknown\" for categorical columns\n",
    "dd['Description'] = dd['Description'].fillna('Unknown')\n",
    "dd['CustomerID'] = dd['CustomerID'].fillna('Unknown')\n",
    "dd['Country'] = dd['Country'].fillna('Unknown')\n"
   ]
  },
  {
   "cell_type": "code",
   "execution_count": 151,
   "id": "baf61215-bb99-43f4-9f67-0b886bb9f370",
   "metadata": {},
   "outputs": [
    {
     "name": "stdout",
     "output_type": "stream",
     "text": [
      "InvoiceNo      397758\n",
      "StockCode      397758\n",
      "Description    397758\n",
      "Quantity       397758\n",
      "InvoiceDate    397758\n",
      "UnitPrice      397758\n",
      "CustomerID     397758\n",
      "Country        397758\n",
      "TotalSales     397758\n",
      "dtype: int64\n"
     ]
    }
   ],
   "source": [
    "# Define reasonable thresholds for Quantity and UnitPrice\n",
    "quantity_threshold = 1000  # Example threshold for Quantity\n",
    "price_threshold = 1000  # Example threshold for UnitPrice\n",
    "\n",
    "# Filter out extreme outliers (adjust thresholds as needed)\n",
    "dd = dd[(dd['Quantity'] <= quantity_threshold) & (dd['Quantity'] > 0)]\n",
    "dd = dd[(dd['UnitPrice'] <= price_threshold) & (dd['UnitPrice'] > 0)]\n",
    "print(dd.count())\n",
    "\n"
   ]
  },
  {
   "cell_type": "markdown",
   "id": "6a040e00-646e-48ee-a24b-68a9ddb08646",
   "metadata": {},
   "source": [
    "Exploratory Data Analysis (EDA):\n"
   ]
  },
  {
   "cell_type": "code",
   "execution_count": 82,
   "id": "a2ac54ce-41ba-4fe9-a738-fb18cec7ebcc",
   "metadata": {},
   "outputs": [
    {
     "data": {
      "text/plain": [
       "9769872.054"
      ]
     },
     "execution_count": 82,
     "metadata": {},
     "output_type": "execute_result"
    }
   ],
   "source": [
    "#What is the total sales volume across all transactions\n",
    "dd.loc[:, 'TotalSales'] = dd['Quantity'] * dd['UnitPrice'] #This explicitly tells pandas to modify the TotalSales column for all rows (the : part represents all rows).\n",
    "tot=sum(dd['TotalSales'])\n",
    "tot"
   ]
  },
  {
   "cell_type": "code",
   "execution_count": 147,
   "id": "86ff4297-5ccd-4419-9b87-c29cd424bfb3",
   "metadata": {},
   "outputs": [
    {
     "name": "stdout",
     "output_type": "stream",
     "text": [
      "                 Country   TotalSales\n",
      "35        United Kingdom  6902020.704\n",
      "23           Netherlands   275523.780\n",
      "10                  EIRE   261941.160\n",
      "14               Germany   228867.140\n",
      "13                France   199565.630\n",
      "0              Australia   137887.710\n",
      "30                 Spain    61577.110\n",
      "32           Switzerland    56443.950\n",
      "3                Belgium    41196.340\n",
      "31                Sweden    38378.330\n",
      "24                Norway    36165.440\n",
      "26              Portugal    30955.930\n",
      "19                 Japan    29970.370\n",
      "12               Finland    22546.080\n",
      "6        Channel Islands    20450.440\n",
      "9                Denmark    18955.340\n",
      "18                 Italy    17483.240\n",
      "7                 Cyprus    13590.380\n",
      "1                Austria    10198.680\n",
      "29             Singapore     9522.290\n",
      "25                Poland     7334.650\n",
      "17                Israel     7221.690\n",
      "15                Greece     4760.520\n",
      "16               Iceland     4310.000\n",
      "5                 Canada     3666.380\n",
      "33                   USA     3580.390\n",
      "22                 Malta     2725.590\n",
      "36           Unspecified     2667.070\n",
      "34  United Arab Emirates     1902.280\n",
      "20               Lebanon     1693.880\n",
      "21             Lithuania     1661.060\n",
      "11    European Community     1300.250\n",
      "4                 Brazil     1143.600\n",
      "27                   RSA     1002.310\n",
      "8         Czech Republic      826.740\n",
      "2                Bahrain      548.400\n",
      "28          Saudi Arabia      145.920\n"
     ]
    }
   ],
   "source": [
    "#How does sales break down by country or customer segment\n",
    "# First, create a new column to calculate the total sales for each row\n",
    "dd.loc[:, 'TotalSales'] = dd['UnitPrice'] * dd['Quantity']\n",
    "\n",
    "# Now group by 'Country' and sum up the sales\n",
    "sales_by_country = dd.groupby('Country')['TotalSales'].sum().reset_index()\n",
    "\n",
    "# Sort the result by TotalSales in descending order to see the countries with the highest sales\n",
    "sales_by_country_sorted = sales_by_country.sort_values(by='TotalSales', ascending=False)\n",
    "\n",
    "print(sales_by_country_sorted)\n"
   ]
  },
  {
   "cell_type": "code",
   "execution_count": 153,
   "id": "b059115b-2b9b-4cc2-be29-b6215f7e4b42",
   "metadata": {},
   "outputs": [
    {
     "name": "stdout",
     "output_type": "stream",
     "text": [
      "InvoiceNo      397758\n",
      "StockCode      397758\n",
      "Description    397758\n",
      "Quantity       397758\n",
      "InvoiceDate    397758\n",
      "UnitPrice      397758\n",
      "CustomerID     397758\n",
      "Country        397758\n",
      "TotalSales     397758\n",
      "dtype: int64\n"
     ]
    }
   ],
   "source": [
    "print(dd.count())\n",
    "dd"
   ]
  },
  {
   "cell_type": "code",
   "execution_count": 149,
   "id": "46a55032-377b-4284-959a-d0cbeb112397",
   "metadata": {},
   "outputs": [],
   "source": [
    "# Save as CSV\n",
    "dd.to_csv(\"Data_cleaning_on_online _retailer.csv\", index=False)\n",
    "\n",
    "# Save as Pickle (faster and preserves data types)\n",
    "dd.to_pickle(\"Data_cleaning_on_online _retailer.pkl\")\n"
   ]
  },
  {
   "cell_type": "code",
   "execution_count": null,
   "id": "0d638dc9-03f5-44df-9333-e76bcdf3025a",
   "metadata": {},
   "outputs": [],
   "source": []
  }
 ],
 "metadata": {
  "kernelspec": {
   "display_name": "Python 3 (ipykernel)",
   "language": "python",
   "name": "python3"
  },
  "language_info": {
   "codemirror_mode": {
    "name": "ipython",
    "version": 3
   },
   "file_extension": ".py",
   "mimetype": "text/x-python",
   "name": "python",
   "nbconvert_exporter": "python",
   "pygments_lexer": "ipython3",
   "version": "3.12.7"
  }
 },
 "nbformat": 4,
 "nbformat_minor": 5
}
