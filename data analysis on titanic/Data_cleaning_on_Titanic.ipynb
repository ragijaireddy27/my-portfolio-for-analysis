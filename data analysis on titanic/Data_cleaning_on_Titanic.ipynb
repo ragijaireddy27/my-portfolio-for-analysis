{
 "cells": [
  {
   "cell_type": "code",
   "execution_count": 4,
   "id": "9705c0f9-ce40-4d2d-b41d-7ae485fbcb3a",
   "metadata": {},
   "outputs": [],
   "source": [
    "import pandas as pd"
   ]
  },
  {
   "cell_type": "markdown",
   "id": "20a17b96-d1e3-413f-b98d-e9a4e1ae4f5c",
   "metadata": {},
   "source": [
    "Data Cleaning:"
   ]
  },
  {
   "cell_type": "code",
   "execution_count": 7,
   "id": "cbe9a3bb-4e15-4e5b-8766-5590ea438d2d",
   "metadata": {},
   "outputs": [
    {
     "name": "stdout",
     "output_type": "stream",
     "text": [
      "<class 'pandas.core.frame.DataFrame'>\n",
      "RangeIndex: 1000000 entries, 0 to 999999\n",
      "Data columns (total 12 columns):\n",
      " #   Column       Non-Null Count    Dtype  \n",
      "---  ------       --------------    -----  \n",
      " 0   PassengerId  1000000 non-null  int64  \n",
      " 1   Survived     1000000 non-null  int64  \n",
      " 2   Pclass       1000000 non-null  int64  \n",
      " 3   Name         1000000 non-null  object \n",
      " 4   Sex          1000000 non-null  object \n",
      " 5   Age          801400 non-null   float64\n",
      " 6   SibSp        1000000 non-null  int64  \n",
      " 7   Parch        1000000 non-null  int64  \n",
      " 8   Ticket       1000000 non-null  object \n",
      " 9   Fare         1000000 non-null  float64\n",
      " 10  Cabin        229805 non-null   object \n",
      " 11  Embarked     997760 non-null   object \n",
      "dtypes: float64(2), int64(5), object(5)\n",
      "memory usage: 91.6+ MB\n"
     ]
    }
   ],
   "source": [
    "#import the data set\n",
    "Tt=pd.read_csv(\"R:\\\\portfoli_projects\\\\Tatanic\\\\huge_1M_titanic.csv\")\n",
    "Tt.info()\n",
    "\n",
    "\n",
    "\n"
   ]
  },
  {
   "cell_type": "code",
   "execution_count": 8,
   "id": "066a4ba9-aad9-4cb7-8eba-7a9e3258d505",
   "metadata": {},
   "outputs": [
    {
     "data": {
      "text/plain": [
       "PassengerId    1000000\n",
       "Survived       1000000\n",
       "Pclass         1000000\n",
       "Name           1000000\n",
       "Sex            1000000\n",
       "Age             801400\n",
       "SibSp          1000000\n",
       "Parch          1000000\n",
       "Ticket         1000000\n",
       "Fare           1000000\n",
       "Cabin           229805\n",
       "Embarked        997760\n",
       "dtype: int64"
      ]
     },
     "execution_count": 8,
     "metadata": {},
     "output_type": "execute_result"
    }
   ],
   "source": [
    "#Are there any missing or null values in columns such as PassengerId, Pclass, Name, Sex, Age, SibSp, Parch, Fare, Embarked\n",
    "tt=Tt\n",
    "m=['PassengerId', 'Pclass', 'Name', 'Sex', 'Age', 'SibSp', 'Cabin','Parch', 'Fare', 'Embarked']\n",
    "tt[m].isna().sum()\n",
    "\n",
    "tt.count()"
   ]
  },
  {
   "cell_type": "code",
   "execution_count": 9,
   "id": "88092439-48ef-4c9c-9777-87f4e34dfa31",
   "metadata": {},
   "outputs": [
    {
     "data": {
      "text/plain": [
       "PassengerId    0\n",
       "Pclass         0\n",
       "Name           0\n",
       "Sex            0\n",
       "Age            0\n",
       "SibSp          0\n",
       "Cabin          0\n",
       "Parch          0\n",
       "Fare           0\n",
       "Embarked       0\n",
       "dtype: int64"
      ]
     },
     "execution_count": 9,
     "metadata": {},
     "output_type": "execute_result"
    }
   ],
   "source": [
    "\n",
    "\n",
    "\n",
    "#impute missing values using the appropriate method (e.g., median for Age)\n",
    "me=tt['Age'].median()\n",
    "tt['Age'].fillna(me)\n",
    "#impute missing values using the appropriate method (e.g.,  mode for Embarked)\n",
    "mo=tt['Embarked'].mode().count()\n",
    "tt['Embarked'].fillna(mo)\n",
    "\n",
    "#OR\n",
    "#drop missing values using the appropriate method \n",
    "tt.dropna(subset=['Age','Cabin','Embarked'],inplace=True)\n",
    "\n",
    "tt[m].isna().sum()\n",
    "\n"
   ]
  },
  {
   "cell_type": "code",
   "execution_count": 10,
   "id": "e1753823-51b9-4ada-983d-9ff39e3d0795",
   "metadata": {},
   "outputs": [],
   "source": [
    "#Check for duplicates \n",
    "k=tt.duplicated().count()\n",
    "#remove them \n",
    "l=tt.drop_duplicates().count()\n",
    "#Check for duplicates with, PassengerId ,Survived ,Pclass,Name, Ticket\n",
    "dup=['PassengerId' ,'Survived' ,'Pclass','Name', 'Ticket']\n",
    "tt[tt.duplicated(subset=['PassengerId' ,'Survived' ,'Pclass','Name', 'Ticket'], keep=False)]\n",
    "\n",
    "# Remove duplicates\n",
    "k=tt.drop_duplicates(subset=['PassengerId' ,'Survived' ,'Pclass','Name', 'Ticket'], keep='first', inplace=True)\n"
   ]
  },
  {
   "cell_type": "code",
   "execution_count": 11,
   "id": "75258508-b2b6-4325-8844-f02b27ac059e",
   "metadata": {},
   "outputs": [],
   "source": [
    "\n",
    "\n",
    "#Are there any unrealistic values\n",
    "tt['Age'] = pd.to_numeric(tt['Age'], errors='coerce')\n",
    "\n",
    "tt['PassengerId'] = pd.to_numeric(tt['PassengerId'], errors='coerce')\n"
   ]
  },
  {
   "cell_type": "code",
   "execution_count": 12,
   "id": "e15fd915-6cb1-4ce5-b8dd-4c4cac818d95",
   "metadata": {},
   "outputs": [],
   "source": [
    "\n",
    "# Replace unrealistic Age values (negative or >100) with the median age\n",
    "median_age = tt['Age'].median()  # Calculate median once\n",
    "tt.loc[(tt['Age'] < 0) | (tt['Age'] > 100), 'Age'] = median_age\n"
   ]
  },
  {
   "cell_type": "code",
   "execution_count": 13,
   "id": "d33ceba7-59da-4818-bf27-f9eb7e58b33c",
   "metadata": {},
   "outputs": [
    {
     "name": "stdout",
     "output_type": "stream",
     "text": [
      "<class 'pandas.core.frame.DataFrame'>\n",
      "Index: 183584 entries, 2 to 999998\n",
      "Data columns (total 11 columns):\n",
      " #   Column       Non-Null Count   Dtype  \n",
      "---  ------       --------------   -----  \n",
      " 0   PassengerId  183584 non-null  int64  \n",
      " 1   Survived     183584 non-null  int64  \n",
      " 2   Pclass       183584 non-null  int64  \n",
      " 3   Name         183584 non-null  object \n",
      " 4   Sex          183584 non-null  object \n",
      " 5   Age          183584 non-null  int32  \n",
      " 6   SibSp        183584 non-null  int64  \n",
      " 7   Parch        183584 non-null  int64  \n",
      " 8   Ticket       183584 non-null  object \n",
      " 9   Fare         183584 non-null  float64\n",
      " 10  Embarked     183584 non-null  object \n",
      "dtypes: float64(1), int32(1), int64(5), object(4)\n",
      "memory usage: 16.1+ MB\n"
     ]
    }
   ],
   "source": [
    "\n",
    "#  Trim column names (remove spaces)\n",
    "tt.columns = tt.columns.str.strip()\n",
    "\n",
    "#  Handle negative 'Fare' values\n",
    "median_fare = tt.loc[tt['Fare'] >= 0, 'Fare'].median()\n",
    "tt.loc[tt['Fare'] < 0, 'Fare'] = median_fare\n",
    "\n",
    "#  Convert data types if needed\n",
    "tt['Age'] = tt['Age'].astype(int)  # Convert Age to int\n",
    "tt['Fare'] = tt['Fare'].astype(float)  # Ensure Fare is float\n",
    "\n",
    "#  Drop unnecessary columns (if needed)\n",
    "tt.drop(columns=['Cabin'], inplace=True)  # Example of dropping a column\n",
    "tt.info()"
   ]
  },
  {
   "cell_type": "code",
   "execution_count": 14,
   "id": "88a8f5a2-0f05-4c94-ab1e-3d1bec57ac84",
   "metadata": {},
   "outputs": [],
   "source": [
    "#creating csv file store this cleaned data\n",
    "tt.to_csv(\"Data-cleaning-on-titanic.csv\",index=True)"
   ]
  },
  {
   "cell_type": "code",
   "execution_count": null,
   "id": "f3540bea-d1a1-432f-b0f6-16a915ec4dde",
   "metadata": {},
   "outputs": [],
   "source": [
    "\n"
   ]
  },
  {
   "cell_type": "code",
   "execution_count": null,
   "id": "e70349d3-7f43-45f6-b673-3d0f0d9d2d75",
   "metadata": {},
   "outputs": [],
   "source": []
  }
 ],
 "metadata": {
  "kernelspec": {
   "display_name": "Python 3 (ipykernel)",
   "language": "python",
   "name": "python3"
  },
  "language_info": {
   "codemirror_mode": {
    "name": "ipython",
    "version": 3
   },
   "file_extension": ".py",
   "mimetype": "text/x-python",
   "name": "python",
   "nbconvert_exporter": "python",
   "pygments_lexer": "ipython3",
   "version": "3.12.7"
  }
 },
 "nbformat": 4,
 "nbformat_minor": 5
}
